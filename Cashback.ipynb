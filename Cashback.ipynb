{
 "cells": [
  {
   "cell_type": "markdown",
   "id": "8accc69b-8a07-4723-89fc-0d9f85ed53cc",
   "metadata": {},
   "source": [
    "# Importando bibliotecas"
   ]
  },
  {
   "cell_type": "code",
   "execution_count": 1,
   "id": "6803fe8d-2527-4073-b80f-08fc9f6394cf",
   "metadata": {},
   "outputs": [],
   "source": [
    "from sqlalchemy import create_engine, text\n",
    "import pandas as pd\n",
    "from datetime import timedelta"
   ]
  },
  {
   "cell_type": "markdown",
   "id": "2ddb2b4e-cac0-44dd-9ec1-12e32ba89145",
   "metadata": {},
   "source": [
    "# Conectando com o servidor SQL e realizando a consulta"
   ]
  },
  {
   "cell_type": "code",
   "execution_count": 2,
   "id": "3ffe2775-f90b-4cdf-a8b5-d1ebe407edce",
   "metadata": {},
   "outputs": [
    {
     "data": {
      "text/html": [
       "<div>\n",
       "<style scoped>\n",
       "    .dataframe tbody tr th:only-of-type {\n",
       "        vertical-align: middle;\n",
       "    }\n",
       "\n",
       "    .dataframe tbody tr th {\n",
       "        vertical-align: top;\n",
       "    }\n",
       "\n",
       "    .dataframe thead th {\n",
       "        text-align: right;\n",
       "    }\n",
       "</style>\n",
       "<table border=\"1\" class=\"dataframe\">\n",
       "  <thead>\n",
       "    <tr style=\"text-align: right;\">\n",
       "      <th></th>\n",
       "      <th>SalesOrderNumber</th>\n",
       "      <th>ProductKey</th>\n",
       "      <th>EnglishProductName</th>\n",
       "      <th>ProductSubcategoryKey</th>\n",
       "      <th>EnglishProductSubcategoryName</th>\n",
       "      <th>OrderDate</th>\n",
       "      <th>CustomerKey</th>\n",
       "      <th>FirstName</th>\n",
       "      <th>SalesAmount</th>\n",
       "    </tr>\n",
       "  </thead>\n",
       "  <tbody>\n",
       "    <tr>\n",
       "      <th>0</th>\n",
       "      <td>SO43697</td>\n",
       "      <td>310</td>\n",
       "      <td>Road-150 Red, 62</td>\n",
       "      <td>2</td>\n",
       "      <td>Road Bikes</td>\n",
       "      <td>2010-12-29</td>\n",
       "      <td>21768</td>\n",
       "      <td>Cole</td>\n",
       "      <td>3578.27</td>\n",
       "    </tr>\n",
       "    <tr>\n",
       "      <th>1</th>\n",
       "      <td>SO43698</td>\n",
       "      <td>346</td>\n",
       "      <td>Mountain-100 Silver, 44</td>\n",
       "      <td>1</td>\n",
       "      <td>Mountain Bikes</td>\n",
       "      <td>2010-12-29</td>\n",
       "      <td>28389</td>\n",
       "      <td>Rachael</td>\n",
       "      <td>3399.99</td>\n",
       "    </tr>\n",
       "    <tr>\n",
       "      <th>2</th>\n",
       "      <td>SO43699</td>\n",
       "      <td>346</td>\n",
       "      <td>Mountain-100 Silver, 44</td>\n",
       "      <td>1</td>\n",
       "      <td>Mountain Bikes</td>\n",
       "      <td>2010-12-29</td>\n",
       "      <td>25863</td>\n",
       "      <td>Sydney</td>\n",
       "      <td>3399.99</td>\n",
       "    </tr>\n",
       "  </tbody>\n",
       "</table>\n",
       "</div>"
      ],
      "text/plain": [
       "  SalesOrderNumber  ProductKey       EnglishProductName  \\\n",
       "0          SO43697         310         Road-150 Red, 62   \n",
       "1          SO43698         346  Mountain-100 Silver, 44   \n",
       "2          SO43699         346  Mountain-100 Silver, 44   \n",
       "\n",
       "   ProductSubcategoryKey EnglishProductSubcategoryName  OrderDate  \\\n",
       "0                      2                    Road Bikes 2010-12-29   \n",
       "1                      1                Mountain Bikes 2010-12-29   \n",
       "2                      1                Mountain Bikes 2010-12-29   \n",
       "\n",
       "   CustomerKey FirstName  SalesAmount  \n",
       "0        21768      Cole      3578.27  \n",
       "1        28389   Rachael      3399.99  \n",
       "2        25863    Sydney      3399.99  "
      ]
     },
     "execution_count": 2,
     "metadata": {},
     "output_type": "execute_result"
    }
   ],
   "source": [
    "# Dados de conexao\n",
    "server = 'localhost'\n",
    "database = 'AdventureWorksDW2022'\n",
    "\n",
    "# String de conexão para autenticação integrada\n",
    "connection_string = f'mssql+pyodbc://{server}/{database}?driver=ODBC+Driver+17+for+SQL+Server&trusted_connection=yes'\n",
    "\n",
    "# Criando o engine de conexão\n",
    "engine = create_engine(connection_string)\n",
    "\n",
    "# Script SQL\n",
    "sql_script = '''\n",
    "SELECT\n",
    "\tFIS.SalesOrderNumber,\n",
    "\tFIS.ProductKey,\n",
    "\tPD.EnglishProductName,\n",
    "\tPS.ProductSubcategoryKey,\n",
    "\tPS.EnglishProductSubcategoryName,\n",
    "\tFIS.OrderDate,\n",
    "\tFIS.CustomerKey,\n",
    "\tCT.FirstName,\n",
    "\tFIS.SalesAmount\n",
    "FROM FactInternetSales AS FIS\n",
    "LEFT JOIN DimProduct AS PD ON (PD.ProductKey = FIS.ProductKey)\n",
    "LEFT JOIN DimCustomer AS CT ON (CT.CustomerKey = FIS.CustomerKey)\n",
    "LEFT JOIN DimProductSubcategory AS PS ON (PS.ProductSubcategoryKey = PD.ProductSubcategoryKey)\n",
    "'''\n",
    "\n",
    "# Criando um objeto TextClause\n",
    "query = text(sql_script)\n",
    "\n",
    "# Criando o Dataframe\n",
    "df = pd.read_sql_query(query, engine)\n",
    "\n",
    "df.head(3)"
   ]
  },
  {
   "cell_type": "markdown",
   "id": "b1ba033a-3b56-4e48-b796-59e072988a91",
   "metadata": {},
   "source": [
    "# Criando a variável para leitura do Excel"
   ]
  },
  {
   "cell_type": "code",
   "execution_count": 3,
   "id": "72568817-3bce-40fa-8578-2492d2fcc987",
   "metadata": {},
   "outputs": [
    {
     "data": {
      "text/html": [
       "<div>\n",
       "<style scoped>\n",
       "    .dataframe tbody tr th:only-of-type {\n",
       "        vertical-align: middle;\n",
       "    }\n",
       "\n",
       "    .dataframe tbody tr th {\n",
       "        vertical-align: top;\n",
       "    }\n",
       "\n",
       "    .dataframe thead th {\n",
       "        text-align: right;\n",
       "    }\n",
       "</style>\n",
       "<table border=\"1\" class=\"dataframe\">\n",
       "  <thead>\n",
       "    <tr style=\"text-align: right;\">\n",
       "      <th></th>\n",
       "      <th>ProductSubcategoryKey</th>\n",
       "      <th>EnglishProductSubcategoryName</th>\n",
       "      <th>Price Limite</th>\n",
       "      <th>%CashBack</th>\n",
       "    </tr>\n",
       "  </thead>\n",
       "  <tbody>\n",
       "    <tr>\n",
       "      <th>0</th>\n",
       "      <td>26</td>\n",
       "      <td>Bike Racks</td>\n",
       "      <td>130</td>\n",
       "      <td>0.05</td>\n",
       "    </tr>\n",
       "    <tr>\n",
       "      <th>1</th>\n",
       "      <td>27</td>\n",
       "      <td>Bike Stands</td>\n",
       "      <td>160</td>\n",
       "      <td>0.05</td>\n",
       "    </tr>\n",
       "    <tr>\n",
       "      <th>2</th>\n",
       "      <td>28</td>\n",
       "      <td>Bottles and Cages</td>\n",
       "      <td>10</td>\n",
       "      <td>0.10</td>\n",
       "    </tr>\n",
       "  </tbody>\n",
       "</table>\n",
       "</div>"
      ],
      "text/plain": [
       "   ProductSubcategoryKey EnglishProductSubcategoryName  Price Limite  \\\n",
       "0                     26                    Bike Racks           130   \n",
       "1                     27                   Bike Stands           160   \n",
       "2                     28             Bottles and Cages            10   \n",
       "\n",
       "   %CashBack  \n",
       "0       0.05  \n",
       "1       0.05  \n",
       "2       0.10  "
      ]
     },
     "execution_count": 3,
     "metadata": {},
     "output_type": "execute_result"
    }
   ],
   "source": [
    "# Caminho arquivo\n",
    "path = r'C:\\Automação Cashback\\\\'\n",
    "\n",
    "# Nome Arquivo\n",
    "arquivo = '% Cashback.xlsx'\n",
    "\n",
    "# Lendo o arquivo com os valores mínimos e percentuais de cashback\n",
    "arquivo_cashback = pd.read_excel(f'{path}{arquivo}')\n",
    "\n",
    "arquivo_cashback.head(3)"
   ]
  },
  {
   "cell_type": "markdown",
   "id": "4cd42780-c887-4954-8b1b-baa0b46b6cef",
   "metadata": {},
   "source": [
    "# Tratando o Dataframe gerado pelo Banco SQL"
   ]
  },
  {
   "cell_type": "markdown",
   "id": "da84f67a-9c11-46f5-9f6f-97d655e3f4dd",
   "metadata": {},
   "source": [
    "### Ajustando o DataFrame para obter dados dos últimos 90 dias"
   ]
  },
  {
   "cell_type": "code",
   "execution_count": 4,
   "id": "64a0f11f-45c6-449b-ab0f-f4155cc6e91c",
   "metadata": {},
   "outputs": [
    {
     "data": {
      "text/plain": [
       "Timestamp('2014-01-28 00:00:00')"
      ]
     },
     "execution_count": 4,
     "metadata": {},
     "output_type": "execute_result"
    }
   ],
   "source": [
    "# Verificando a data maxima \n",
    "\n",
    "max(df['OrderDate'])"
   ]
  },
  {
   "cell_type": "code",
   "execution_count": 5,
   "id": "29daf431-362f-47ef-b45c-1f050e0d85ce",
   "metadata": {},
   "outputs": [
    {
     "data": {
      "text/plain": [
       "Timestamp('2013-10-30 00:00:00')"
      ]
     },
     "execution_count": 5,
     "metadata": {},
     "output_type": "execute_result"
    }
   ],
   "source": [
    "# Filtrando a base nos ultimos 90 dias\n",
    "\n",
    "# Criando uma variavel com a data de 90 dias atras\n",
    "dias = 90\n",
    "\n",
    "ultimo_dias = df['OrderDate'].max() - timedelta(days=dias)\n",
    "\n",
    "# Filtrando o Dataframe\n",
    "df_ultimos_dias = df.query('OrderDate >= @ultimo_dias')\n",
    "\n",
    "# Conferindo a data minima\n",
    "min(df_ultimos_dias['OrderDate'])"
   ]
  },
  {
   "cell_type": "markdown",
   "id": "9b1451d0-12c2-49ba-9b0a-8f5b3b447c76",
   "metadata": {},
   "source": [
    "### Extraindo somente as colunas necessarias"
   ]
  },
  {
   "cell_type": "code",
   "execution_count": 6,
   "id": "9c2aff88-8908-4d28-8590-8258f7ec98b9",
   "metadata": {},
   "outputs": [
    {
     "data": {
      "text/html": [
       "<div>\n",
       "<style scoped>\n",
       "    .dataframe tbody tr th:only-of-type {\n",
       "        vertical-align: middle;\n",
       "    }\n",
       "\n",
       "    .dataframe tbody tr th {\n",
       "        vertical-align: top;\n",
       "    }\n",
       "\n",
       "    .dataframe thead th {\n",
       "        text-align: right;\n",
       "    }\n",
       "</style>\n",
       "<table border=\"1\" class=\"dataframe\">\n",
       "  <thead>\n",
       "    <tr style=\"text-align: right;\">\n",
       "      <th></th>\n",
       "      <th>ProductSubcategoryKey</th>\n",
       "      <th>EnglishProductSubcategoryName</th>\n",
       "      <th>CustomerKey</th>\n",
       "      <th>FirstName</th>\n",
       "      <th>SalesAmount</th>\n",
       "    </tr>\n",
       "  </thead>\n",
       "  <tbody>\n",
       "    <tr>\n",
       "      <th>47349</th>\n",
       "      <td>28</td>\n",
       "      <td>Bottles and Cages</td>\n",
       "      <td>11974</td>\n",
       "      <td>Randy</td>\n",
       "      <td>8.99</td>\n",
       "    </tr>\n",
       "    <tr>\n",
       "      <th>47350</th>\n",
       "      <td>28</td>\n",
       "      <td>Bottles and Cages</td>\n",
       "      <td>11974</td>\n",
       "      <td>Randy</td>\n",
       "      <td>4.99</td>\n",
       "    </tr>\n",
       "  </tbody>\n",
       "</table>\n",
       "</div>"
      ],
      "text/plain": [
       "       ProductSubcategoryKey EnglishProductSubcategoryName  CustomerKey  \\\n",
       "47349                     28             Bottles and Cages        11974   \n",
       "47350                     28             Bottles and Cages        11974   \n",
       "\n",
       "      FirstName  SalesAmount  \n",
       "47349     Randy         8.99  \n",
       "47350     Randy         4.99  "
      ]
     },
     "execution_count": 6,
     "metadata": {},
     "output_type": "execute_result"
    }
   ],
   "source": [
    "# Selecionando colunas\n",
    "colunas = [\n",
    "    'ProductSubcategoryKey',\n",
    "    'EnglishProductSubcategoryName',\n",
    "    'CustomerKey',\n",
    "    'FirstName',\n",
    "    'SalesAmount'\n",
    "]\n",
    "\n",
    "df_tratado = df_ultimos_dias[colunas]\n",
    "\n",
    "df_tratado.head(2)"
   ]
  },
  {
   "cell_type": "markdown",
   "id": "d157b9d3-734a-4bc7-8973-a4ea0cfda333",
   "metadata": {},
   "source": [
    "### Realizando um agrupamento dos dados "
   ]
  },
  {
   "cell_type": "code",
   "execution_count": 7,
   "id": "3883bd81-aa95-4d56-8636-daf98aab7768",
   "metadata": {},
   "outputs": [
    {
     "data": {
      "text/html": [
       "<div>\n",
       "<style scoped>\n",
       "    .dataframe tbody tr th:only-of-type {\n",
       "        vertical-align: middle;\n",
       "    }\n",
       "\n",
       "    .dataframe tbody tr th {\n",
       "        vertical-align: top;\n",
       "    }\n",
       "\n",
       "    .dataframe thead th {\n",
       "        text-align: right;\n",
       "    }\n",
       "</style>\n",
       "<table border=\"1\" class=\"dataframe\">\n",
       "  <thead>\n",
       "    <tr style=\"text-align: right;\">\n",
       "      <th></th>\n",
       "      <th>ProductSubcategoryKey</th>\n",
       "      <th>EnglishProductSubcategoryName</th>\n",
       "      <th>CustomerKey</th>\n",
       "      <th>FirstName</th>\n",
       "      <th>SalesAmount</th>\n",
       "    </tr>\n",
       "  </thead>\n",
       "  <tbody>\n",
       "    <tr>\n",
       "      <th>0</th>\n",
       "      <td>1</td>\n",
       "      <td>Mountain Bikes</td>\n",
       "      <td>11044</td>\n",
       "      <td>Adam</td>\n",
       "      <td>2294.99</td>\n",
       "    </tr>\n",
       "    <tr>\n",
       "      <th>1</th>\n",
       "      <td>1</td>\n",
       "      <td>Mountain Bikes</td>\n",
       "      <td>11046</td>\n",
       "      <td>Christine</td>\n",
       "      <td>2319.99</td>\n",
       "    </tr>\n",
       "    <tr>\n",
       "      <th>2</th>\n",
       "      <td>1</td>\n",
       "      <td>Mountain Bikes</td>\n",
       "      <td>11047</td>\n",
       "      <td>Jaclyn</td>\n",
       "      <td>2319.99</td>\n",
       "    </tr>\n",
       "  </tbody>\n",
       "</table>\n",
       "</div>"
      ],
      "text/plain": [
       "   ProductSubcategoryKey EnglishProductSubcategoryName  CustomerKey  \\\n",
       "0                      1                Mountain Bikes        11044   \n",
       "1                      1                Mountain Bikes        11046   \n",
       "2                      1                Mountain Bikes        11047   \n",
       "\n",
       "   FirstName  SalesAmount  \n",
       "0       Adam      2294.99  \n",
       "1  Christine      2319.99  \n",
       "2     Jaclyn      2319.99  "
      ]
     },
     "execution_count": 7,
     "metadata": {},
     "output_type": "execute_result"
    }
   ],
   "source": [
    "# Agrupando os dados\n",
    "\n",
    "df_sql_consolidado = df_ultimos_dias.groupby([\n",
    "    'ProductSubcategoryKey','EnglishProductSubcategoryName','CustomerKey','FirstName'\n",
    "    ])['SalesAmount'].sum().reset_index()\n",
    "\n",
    "\n",
    "df_sql_consolidado.head(3)"
   ]
  },
  {
   "cell_type": "markdown",
   "id": "769b2f1b-773a-42a9-935d-8b8089762300",
   "metadata": {},
   "source": [
    "# Agrupando o DF do BANCO com o do EXCEL"
   ]
  },
  {
   "cell_type": "code",
   "execution_count": 8,
   "id": "1d6ad5bf-60ba-4cef-9fc3-c386310800ac",
   "metadata": {},
   "outputs": [
    {
     "data": {
      "text/html": [
       "<div>\n",
       "<style scoped>\n",
       "    .dataframe tbody tr th:only-of-type {\n",
       "        vertical-align: middle;\n",
       "    }\n",
       "\n",
       "    .dataframe tbody tr th {\n",
       "        vertical-align: top;\n",
       "    }\n",
       "\n",
       "    .dataframe thead th {\n",
       "        text-align: right;\n",
       "    }\n",
       "</style>\n",
       "<table border=\"1\" class=\"dataframe\">\n",
       "  <thead>\n",
       "    <tr style=\"text-align: right;\">\n",
       "      <th></th>\n",
       "      <th>ProductSubcategoryKey</th>\n",
       "      <th>EnglishProductSubcategoryName</th>\n",
       "      <th>CustomerKey</th>\n",
       "      <th>FirstName</th>\n",
       "      <th>SalesAmount</th>\n",
       "      <th>Price Limite</th>\n",
       "      <th>%CashBack</th>\n",
       "    </tr>\n",
       "  </thead>\n",
       "  <tbody>\n",
       "    <tr>\n",
       "      <th>0</th>\n",
       "      <td>1</td>\n",
       "      <td>Mountain Bikes</td>\n",
       "      <td>11044</td>\n",
       "      <td>Adam</td>\n",
       "      <td>2294.99</td>\n",
       "      <td>800</td>\n",
       "      <td>0.07</td>\n",
       "    </tr>\n",
       "    <tr>\n",
       "      <th>1</th>\n",
       "      <td>1</td>\n",
       "      <td>Mountain Bikes</td>\n",
       "      <td>11046</td>\n",
       "      <td>Christine</td>\n",
       "      <td>2319.99</td>\n",
       "      <td>800</td>\n",
       "      <td>0.07</td>\n",
       "    </tr>\n",
       "  </tbody>\n",
       "</table>\n",
       "</div>"
      ],
      "text/plain": [
       "   ProductSubcategoryKey EnglishProductSubcategoryName  CustomerKey  \\\n",
       "0                      1                Mountain Bikes        11044   \n",
       "1                      1                Mountain Bikes        11046   \n",
       "\n",
       "   FirstName  SalesAmount  Price Limite  %CashBack  \n",
       "0       Adam      2294.99           800       0.07  \n",
       "1  Christine      2319.99           800       0.07  "
      ]
     },
     "execution_count": 8,
     "metadata": {},
     "output_type": "execute_result"
    }
   ],
   "source": [
    "# Realizando o agrupamento dos dados\n",
    "\n",
    "df_agrupado = pd.merge(\n",
    "    df_sql_consolidado,\n",
    "    arquivo_cashback[['ProductSubcategoryKey','Price Limite', '%CashBack']],\n",
    "    how ='left',\n",
    "    on ='ProductSubcategoryKey'\n",
    ")\n",
    "\n",
    "df_agrupado.head(2)"
   ]
  },
  {
   "cell_type": "markdown",
   "id": "5e4b9512-718d-42db-abe1-4fe5ad0f8412",
   "metadata": {
    "scrolled": true
   },
   "source": [
    "# Realizando a validação e o calculo do CASHBACK"
   ]
  },
  {
   "cell_type": "code",
   "execution_count": 9,
   "id": "98e6944d-d3ad-4dc9-a79b-10748c273033",
   "metadata": {},
   "outputs": [
    {
     "data": {
      "text/html": [
       "<div>\n",
       "<style scoped>\n",
       "    .dataframe tbody tr th:only-of-type {\n",
       "        vertical-align: middle;\n",
       "    }\n",
       "\n",
       "    .dataframe tbody tr th {\n",
       "        vertical-align: top;\n",
       "    }\n",
       "\n",
       "    .dataframe thead th {\n",
       "        text-align: right;\n",
       "    }\n",
       "</style>\n",
       "<table border=\"1\" class=\"dataframe\">\n",
       "  <thead>\n",
       "    <tr style=\"text-align: right;\">\n",
       "      <th></th>\n",
       "      <th>ProductSubcategoryKey</th>\n",
       "      <th>EnglishProductSubcategoryName</th>\n",
       "      <th>CustomerKey</th>\n",
       "      <th>FirstName</th>\n",
       "      <th>SalesAmount</th>\n",
       "      <th>Price Limite</th>\n",
       "      <th>%CashBack</th>\n",
       "      <th>Cashback</th>\n",
       "    </tr>\n",
       "  </thead>\n",
       "  <tbody>\n",
       "    <tr>\n",
       "      <th>0</th>\n",
       "      <td>1</td>\n",
       "      <td>Mountain Bikes</td>\n",
       "      <td>11044</td>\n",
       "      <td>Adam</td>\n",
       "      <td>2294.99</td>\n",
       "      <td>800</td>\n",
       "      <td>0.07</td>\n",
       "      <td>160.6493</td>\n",
       "    </tr>\n",
       "    <tr>\n",
       "      <th>1</th>\n",
       "      <td>1</td>\n",
       "      <td>Mountain Bikes</td>\n",
       "      <td>11046</td>\n",
       "      <td>Christine</td>\n",
       "      <td>2319.99</td>\n",
       "      <td>800</td>\n",
       "      <td>0.07</td>\n",
       "      <td>162.3993</td>\n",
       "    </tr>\n",
       "    <tr>\n",
       "      <th>2</th>\n",
       "      <td>1</td>\n",
       "      <td>Mountain Bikes</td>\n",
       "      <td>11047</td>\n",
       "      <td>Jaclyn</td>\n",
       "      <td>2319.99</td>\n",
       "      <td>800</td>\n",
       "      <td>0.07</td>\n",
       "      <td>162.3993</td>\n",
       "    </tr>\n",
       "  </tbody>\n",
       "</table>\n",
       "</div>"
      ],
      "text/plain": [
       "   ProductSubcategoryKey EnglishProductSubcategoryName  CustomerKey  \\\n",
       "0                      1                Mountain Bikes        11044   \n",
       "1                      1                Mountain Bikes        11046   \n",
       "2                      1                Mountain Bikes        11047   \n",
       "\n",
       "   FirstName  SalesAmount  Price Limite  %CashBack  Cashback  \n",
       "0       Adam      2294.99           800       0.07  160.6493  \n",
       "1  Christine      2319.99           800       0.07  162.3993  \n",
       "2     Jaclyn      2319.99           800       0.07  162.3993  "
      ]
     },
     "execution_count": 9,
     "metadata": {},
     "output_type": "execute_result"
    }
   ],
   "source": [
    "# Criando a coluna de validação e calculo\n",
    "\n",
    "df_agrupado['Cashback'] = df_agrupado.apply(\n",
    "    lambda row: row['SalesAmount'] * row['%CashBack'] if row['SalesAmount'] > row['Price Limite']\n",
    "    else 0,\n",
    "    axis = 1\n",
    ")\n",
    "\n",
    "df_agrupado.head(3)"
   ]
  },
  {
   "cell_type": "markdown",
   "id": "cc786a8c-5a80-44b4-a829-638e556a330e",
   "metadata": {},
   "source": [
    "# Criando um Datrafame consolidado com os Customers e seu respectivo Cashback"
   ]
  },
  {
   "cell_type": "code",
   "execution_count": 10,
   "id": "bb0c7746-5dd7-49ca-b7cd-db934dacbf63",
   "metadata": {},
   "outputs": [
    {
     "data": {
      "text/html": [
       "<div>\n",
       "<style scoped>\n",
       "    .dataframe tbody tr th:only-of-type {\n",
       "        vertical-align: middle;\n",
       "    }\n",
       "\n",
       "    .dataframe tbody tr th {\n",
       "        vertical-align: top;\n",
       "    }\n",
       "\n",
       "    .dataframe thead th {\n",
       "        text-align: right;\n",
       "    }\n",
       "</style>\n",
       "<table border=\"1\" class=\"dataframe\">\n",
       "  <thead>\n",
       "    <tr style=\"text-align: right;\">\n",
       "      <th></th>\n",
       "      <th>CustomerKey</th>\n",
       "      <th>FirstName</th>\n",
       "      <th>Cashback</th>\n",
       "    </tr>\n",
       "  </thead>\n",
       "  <tbody>\n",
       "    <tr>\n",
       "      <th>0</th>\n",
       "      <td>11001</td>\n",
       "      <td>Eugene</td>\n",
       "      <td>1.3980</td>\n",
       "    </tr>\n",
       "    <tr>\n",
       "      <th>1</th>\n",
       "      <td>11013</td>\n",
       "      <td>Ian</td>\n",
       "      <td>5.9985</td>\n",
       "    </tr>\n",
       "    <tr>\n",
       "      <th>2</th>\n",
       "      <td>11019</td>\n",
       "      <td>Luke</td>\n",
       "      <td>15.9425</td>\n",
       "    </tr>\n",
       "  </tbody>\n",
       "</table>\n",
       "</div>"
      ],
      "text/plain": [
       "   CustomerKey FirstName  Cashback\n",
       "0        11001    Eugene    1.3980\n",
       "1        11013       Ian    5.9985\n",
       "2        11019      Luke   15.9425"
      ]
     },
     "execution_count": 10,
     "metadata": {},
     "output_type": "execute_result"
    }
   ],
   "source": [
    "# Filtrando somente as colunas necessarias\n",
    "df_colunas = [\n",
    "    'CustomerKey',\n",
    "    'FirstName',\n",
    "    'Cashback'\n",
    "]\n",
    "\n",
    "df_cashback = df_agrupado[df_colunas]\n",
    "\n",
    "\n",
    "# Realizando a consolidação\n",
    "df_cashback = df_cashback.groupby(['CustomerKey','FirstName'])['Cashback'].sum().reset_index()\n",
    "\n",
    "# Removendo cashback = 0\n",
    "df_cashback = df_cashback.query('Cashback > 0')\n",
    "\n",
    "df_cashback.head(3)"
   ]
  },
  {
   "cell_type": "markdown",
   "id": "4daa6ede-17d3-4763-9198-24e3ada283b0",
   "metadata": {},
   "source": [
    "# Salvando o Dataframe em EXCEL com os Customers e seus Cashbacks"
   ]
  },
  {
   "cell_type": "code",
   "execution_count": 11,
   "id": "2d8af119-ed4d-4064-acb3-d4a63d9b79e7",
   "metadata": {},
   "outputs": [
    {
     "name": "stdout",
     "output_type": "stream",
     "text": [
      "Arquivo salvo com sucesso!\n"
     ]
    }
   ],
   "source": [
    "# Caminho onde arquivo vai salvar\n",
    "path = r'C:\\Automação Cashback\\\\'\n",
    "nome = 'Clientes e Cashback.xlsx'\n",
    "\n",
    "try:\n",
    "    df_cashback.to_excel(f'{path}{nome}', sheet_name='Cashback', index=False)\n",
    "    print('Arquivo salvo com sucesso!')\n",
    "    \n",
    "except Exception as e:\n",
    "    print(f\"Ocorreu um erro: {e}\")\n"
   ]
  }
 ],
 "metadata": {
  "kernelspec": {
   "display_name": "Python 3 (ipykernel)",
   "language": "python",
   "name": "python3"
  },
  "language_info": {
   "codemirror_mode": {
    "name": "ipython",
    "version": 3
   },
   "file_extension": ".py",
   "mimetype": "text/x-python",
   "name": "python",
   "nbconvert_exporter": "python",
   "pygments_lexer": "ipython3",
   "version": "3.12.0"
  }
 },
 "nbformat": 4,
 "nbformat_minor": 5
}
